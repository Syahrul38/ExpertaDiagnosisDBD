{
  "cells": [
    {
      "cell_type": "code",
      "execution_count": null,
      "metadata": {
        "colab": {
          "base_uri": "https://localhost:8080/"
        },
        "id": "WKd6wcZpiH-s",
        "outputId": "3de3d415-dd3f-4227-8b6a-0d1bffec1e41"
      },
      "outputs": [
        {
          "name": "stdout",
          "output_type": "stream",
          "text": [
            "Collecting experta\n",
            "  Downloading experta-1.9.4-py3-none-any.whl (35 kB)\n",
            "Collecting frozendict==1.2 (from experta)\n",
            "  Downloading frozendict-1.2.tar.gz (2.6 kB)\n",
            "  Preparing metadata (setup.py) ... \u001b[?25l\u001b[?25hdone\n",
            "Collecting schema==0.6.7 (from experta)\n",
            "  Downloading schema-0.6.7-py2.py3-none-any.whl (14 kB)\n",
            "Building wheels for collected packages: frozendict\n",
            "  Building wheel for frozendict (setup.py) ... \u001b[?25l\u001b[?25hdone\n",
            "  Created wheel for frozendict: filename=frozendict-1.2-py3-none-any.whl size=3148 sha256=dc9a2f1efa44ce077301b7a6f0bdbadca37b0d1fbaafd37d8b5e2175ccb3f493\n",
            "  Stored in directory: /root/.cache/pip/wheels/ff/80/86/2d516a3c26397f67adaa2c848879d4a6359d90a60546ce4e03\n",
            "Successfully built frozendict\n",
            "Installing collected packages: schema, frozendict, experta\n",
            "  Attempting uninstall: frozendict\n",
            "    Found existing installation: frozendict 2.3.8\n",
            "    Uninstalling frozendict-2.3.8:\n",
            "      Successfully uninstalled frozendict-2.3.8\n",
            "\u001b[31mERROR: pip's dependency resolver does not currently take into account all the packages that are installed. This behaviour is the source of the following dependency conflicts.\n",
            "yfinance 0.2.28 requires frozendict>=2.3.4, but you have frozendict 1.2 which is incompatible.\u001b[0m\u001b[31m\n",
            "\u001b[0mSuccessfully installed experta-1.9.4 frozendict-1.2 schema-0.6.7\n"
          ]
        }
      ],
      "source": [
        "!pip install experta #Menginstall library experta"
      ]
    },
    {
      "cell_type": "code",
      "execution_count": null,
      "metadata": {
        "colab": {
          "base_uri": "https://localhost:8080/"
        },
        "id": "rb7raUvKAWgu",
        "outputId": "c342b2f3-79c5-4028-8f8d-b04bcaee10d4"
      },
      "outputs": [
        {
          "name": "stdout",
          "output_type": "stream",
          "text": [
            "Requirement already satisfied: frozendict in /usr/local/lib/python3.10/dist-packages (1.2)\n",
            "Collecting frozendict\n",
            "  Downloading frozendict-2.3.8-cp310-cp310-manylinux_2_17_x86_64.manylinux2014_x86_64.whl (115 kB)\n",
            "\u001b[2K     \u001b[90m━━━━━━━━━━━━━━━━━━━━━━━━━━━━━━━━━━━━━━━\u001b[0m \u001b[32m115.3/115.3 kB\u001b[0m \u001b[31m2.0 MB/s\u001b[0m eta \u001b[36m0:00:00\u001b[0m\n",
            "\u001b[?25hInstalling collected packages: frozendict\n",
            "  Attempting uninstall: frozendict\n",
            "    Found existing installation: frozendict 1.2\n",
            "    Uninstalling frozendict-1.2:\n",
            "      Successfully uninstalled frozendict-1.2\n",
            "\u001b[31mERROR: pip's dependency resolver does not currently take into account all the packages that are installed. This behaviour is the source of the following dependency conflicts.\n",
            "experta 1.9.4 requires frozendict==1.2, but you have frozendict 2.3.8 which is incompatible.\u001b[0m\u001b[31m\n",
            "\u001b[0mSuccessfully installed frozendict-2.3.8\n"
          ]
        }
      ],
      "source": [
        "!pip install --upgrade frozendict #Menginstal upgrade frozendict"
      ]
    },
    {
      "cell_type": "code",
      "execution_count": null,
      "metadata": {
        "id": "lxtDswJ6Atic"
      },
      "outputs": [],
      "source": [
        "from experta import * #Mengimpor experta"
      ]
    },
    {
      "cell_type": "code",
      "execution_count": null,
      "metadata": {
        "colab": {
          "background_save": true,
          "base_uri": "https://localhost:8080/"
        },
        "id": "5-77HLohDE-Z",
        "outputId": "1385e0eb-b8c4-406c-bd4f-56ad2922ba94"
      },
      "outputs": [
        {
          "name": "stdout",
          "output_type": "stream",
          "text": [
            "==================================================\n",
            "Deteksi Demam Berdarah dan Malaria\n",
            "==================================================\n",
            "Apakah Anda merasakan gejala berikut ?:\n",
            "1. Suhu badan tinggi\n",
            "2. Sakit kepala\n",
            "3. Nyeri sendi, otot, dan tulang\n",
            "4. Mual dan muntah\n",
            "Bagaimana dengan gejala berikut ini ? :\n",
            "1. Menggigil\n",
            "2. Tubuh kelelahan\n",
            "3. Berkeringat berlebih\n",
            "4. Diare\n",
            "Kamu gone mengalami gejala TIDAK MAU PERIKSA\n",
            "==================================================\n",
            "Deteksi Demam Berdarah dan Malaria\n",
            "==================================================\n"
          ]
        }
      ],
      "source": [
        "class Diagnosa(Fact):\n",
        "    pass\n",
        "\n",
        "class Gejala(Fact):\n",
        "    pass\n",
        "\n",
        "class Hasil(Fact):\n",
        "    pass\n",
        "\n",
        "class DiagnosaEngine(KnowledgeEngine):\n",
        "\n",
        "    def __init__(self, nama):\n",
        "        super().__init__()\n",
        "        self.nama = nama\n",
        "\n",
        "    @DefFacts()\n",
        "    def initial_facts(self):\n",
        "        yield Diagnosa(pilihan=\"y\")\n",
        "\n",
        "    @Rule(Diagnosa(pilihan=\"y\"))\n",
        "    def tanyakan_gejala(self):\n",
        "        print(\"Apakah Anda merasakan gejala berikut ?:\")\n",
        "        print(\"1. Suhu badan tinggi\")\n",
        "        print(\"2. Sakit kepala\")\n",
        "        print(\"3. Nyeri sendi, otot, dan tulang\")\n",
        "        print(\"4. Mual dan muntah\")\n",
        "        diag1 = input(\"Jawab [y/n]: \")\n",
        "\n",
        "        if diag1 == \"y\":\n",
        "            self.declare(Gejala(gejala1=\"y\"))\n",
        "        else:\n",
        "            self.declare(Gejala(gejala1=\"n\"))\n",
        "\n",
        "    @Rule(Gejala(gejala1=\"y\"))\n",
        "    def tanyakan_gejala_lanjutan(self):\n",
        "        print(\"Apakah Anda juga merasakan gejala berikut ? :\")\n",
        "        print(\"1. Hilang selera makan\")\n",
        "        print(\"2. Nyeri di belakang mata\")\n",
        "        print(\"3. Muncul ruam kemerahan\")\n",
        "        diag2 = input(\"Jawab [y/n]: \")\n",
        "\n",
        "        if diag2 == \"y\":\n",
        "            self.declare(Hasil(diagnosa=\"DEMAM BERDARAH, segera periksa\"))\n",
        "        else:\n",
        "            self.declare(Hasil(diagnosa=\"MALARIA, segera periksa\"))\n",
        "\n",
        "    @Rule(Gejala(gejala1=\"n\"))\n",
        "    def tanyakan_gejala_lanjutan2(self):\n",
        "        print(\"Bagaimana dengan gejala berikut ini ? :\")\n",
        "        print(\"1. Menggigil\")\n",
        "        print(\"2. Tubuh kelelahan\")\n",
        "        print(\"3. Berkeringat berlebih\")\n",
        "        print(\"4. Diare\")\n",
        "        diag3 = input(\"Jawab [y/n]: \")\n",
        "\n",
        "        if diag3 == \"y\":\n",
        "            self.declare(Hasil(diagnosa=\"MALARIA, segera periksa\"))\n",
        "        else:\n",
        "            self.declare(Hasil(diagnosa=\"TIDAK MAU PERIKSA\"))\n",
        "\n",
        "    @Rule(Diagnosa(pilihan=\"n\"))\n",
        "    def tidak_mau_diagnosa(self):\n",
        "        print(f\"Kamu {self.nama} Kamu Memilih TIDAK pada pilihan awal, berarti kamu SEHAT\")\n",
        "\n",
        "    @Rule(AS.hasil << Hasil(diagnosa=MATCH.diagnosa))\n",
        "    def hasil_diagnosa(self, hasil):\n",
        "        print(f\"Kamu {self.nama} mengalami gejala {hasil['diagnosa']}\")\n",
        "\n",
        "def main():\n",
        "    print(\"==================================================\")\n",
        "    print(\"Deteksi Demam Berdarah dan Malaria\")\n",
        "    print(\"==================================================\")\n",
        "\n",
        "    nama = input(\"Nama = \")\n",
        "    pilihan = input(f\"Assalamu'alaikum \" +nama+ \"\\nApakah Anda akan melakukan diagnosa?[y/n] : \")\n",
        "\n",
        "    if pilihan == \"y\":\n",
        "        engine = DiagnosaEngine(nama)\n",
        "        engine.reset(pilihan=\"y\")\n",
        "        engine.run()\n",
        "        main()\n",
        "    else:\n",
        "        print(f\"Kamu \" +nama+ \" SEHATTTT\")\n",
        "\n",
        "if __name__ == \"__main__\":\n",
        "    main()\n"
      ]
    }
  ],
  "metadata": {
    "colab": {
      "provenance": []
    },
    "kernelspec": {
      "display_name": "Python 3",
      "name": "python3"
    },
    "language_info": {
      "name": "python"
    }
  },
  "nbformat": 4,
  "nbformat_minor": 0
}